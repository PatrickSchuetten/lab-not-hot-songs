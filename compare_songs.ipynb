{
 "cells": [
  {
   "cell_type": "code",
   "execution_count": 1,
   "id": "c20f280e",
   "metadata": {},
   "outputs": [],
   "source": [
    "import pandas as pd\n",
    "import numpy as np"
   ]
  },
  {
   "cell_type": "code",
   "execution_count": 2,
   "id": "463ea2d5",
   "metadata": {},
   "outputs": [],
   "source": [
    "not_hot = pd.read_csv('not_hot.csv')"
   ]
  },
  {
   "cell_type": "code",
   "execution_count": 3,
   "id": "9344b2b4",
   "metadata": {},
   "outputs": [],
   "source": [
    "hot_songs = pd.read_csv('top_100_hot.csv')"
   ]
  },
  {
   "cell_type": "code",
   "execution_count": 4,
   "id": "e070b200",
   "metadata": {},
   "outputs": [],
   "source": [
    "hot_songs.drop(columns = 'Unnamed: 0', inplace = True)"
   ]
  },
  {
   "cell_type": "code",
   "execution_count": 5,
   "id": "43e571fe",
   "metadata": {},
   "outputs": [],
   "source": [
    "hot_songs.columns = hot_songs.columns.str.lower()"
   ]
  },
  {
   "cell_type": "code",
   "execution_count": 6,
   "id": "fe7914b9",
   "metadata": {},
   "outputs": [
    {
     "data": {
      "text/html": [
       "<div>\n",
       "<style scoped>\n",
       "    .dataframe tbody tr th:only-of-type {\n",
       "        vertical-align: middle;\n",
       "    }\n",
       "\n",
       "    .dataframe tbody tr th {\n",
       "        vertical-align: top;\n",
       "    }\n",
       "\n",
       "    .dataframe thead th {\n",
       "        text-align: right;\n",
       "    }\n",
       "</style>\n",
       "<table border=\"1\" class=\"dataframe\">\n",
       "  <thead>\n",
       "    <tr style=\"text-align: right;\">\n",
       "      <th></th>\n",
       "      <th>artist</th>\n",
       "      <th>title</th>\n",
       "    </tr>\n",
       "  </thead>\n",
       "  <tbody>\n",
       "    <tr>\n",
       "      <th>0</th>\n",
       "      <td>Jack Harlow</td>\n",
       "      <td>Lovin On Me</td>\n",
       "    </tr>\n",
       "    <tr>\n",
       "      <th>1</th>\n",
       "      <td>Taylor Swift</td>\n",
       "      <td>Cruel Summer</td>\n",
       "    </tr>\n",
       "    <tr>\n",
       "      <th>2</th>\n",
       "      <td>Tate McRae</td>\n",
       "      <td>Greedy</td>\n",
       "    </tr>\n",
       "    <tr>\n",
       "      <th>3</th>\n",
       "      <td>Doja Cat</td>\n",
       "      <td>Paint The Town Red</td>\n",
       "    </tr>\n",
       "    <tr>\n",
       "      <th>4</th>\n",
       "      <td>Zach Bryan Featuring Kacey Musgraves</td>\n",
       "      <td>I Remember Everything</td>\n",
       "    </tr>\n",
       "  </tbody>\n",
       "</table>\n",
       "</div>"
      ],
      "text/plain": [
       "                                 artist                  title\n",
       "0                           Jack Harlow            Lovin On Me\n",
       "1                          Taylor Swift           Cruel Summer\n",
       "2                            Tate McRae                 Greedy\n",
       "3                              Doja Cat     Paint The Town Red\n",
       "4  Zach Bryan Featuring Kacey Musgraves  I Remember Everything"
      ]
     },
     "execution_count": 6,
     "metadata": {},
     "output_type": "execute_result"
    }
   ],
   "source": [
    "hot_songs.head()"
   ]
  },
  {
   "cell_type": "code",
   "execution_count": 7,
   "id": "7587c1ff",
   "metadata": {},
   "outputs": [],
   "source": [
    "not_hot.drop(columns = 'Unnamed: 0', inplace = True)"
   ]
  },
  {
   "cell_type": "code",
   "execution_count": 8,
   "id": "a0bc935b",
   "metadata": {},
   "outputs": [
    {
     "data": {
      "text/html": [
       "<div>\n",
       "<style scoped>\n",
       "    .dataframe tbody tr th:only-of-type {\n",
       "        vertical-align: middle;\n",
       "    }\n",
       "\n",
       "    .dataframe tbody tr th {\n",
       "        vertical-align: top;\n",
       "    }\n",
       "\n",
       "    .dataframe thead th {\n",
       "        text-align: right;\n",
       "    }\n",
       "</style>\n",
       "<table border=\"1\" class=\"dataframe\">\n",
       "  <thead>\n",
       "    <tr style=\"text-align: right;\">\n",
       "      <th></th>\n",
       "      <th>artist</th>\n",
       "      <th>title</th>\n",
       "    </tr>\n",
       "  </thead>\n",
       "  <tbody>\n",
       "    <tr>\n",
       "      <th>0</th>\n",
       "      <td>Bob Dylan</td>\n",
       "      <td>Like a Rolling Stone</td>\n",
       "    </tr>\n",
       "    <tr>\n",
       "      <th>1</th>\n",
       "      <td>The Rolling Stones</td>\n",
       "      <td>(I Can't Get No) Satisfaction</td>\n",
       "    </tr>\n",
       "    <tr>\n",
       "      <th>2</th>\n",
       "      <td>The Beach Boys</td>\n",
       "      <td>Good Vibrations</td>\n",
       "    </tr>\n",
       "    <tr>\n",
       "      <th>3</th>\n",
       "      <td>Nirvana</td>\n",
       "      <td>Smells Like Teen Spirit</td>\n",
       "    </tr>\n",
       "    <tr>\n",
       "      <th>4</th>\n",
       "      <td>Aretha Franklin</td>\n",
       "      <td>Respect</td>\n",
       "    </tr>\n",
       "  </tbody>\n",
       "</table>\n",
       "</div>"
      ],
      "text/plain": [
       "               artist                          title\n",
       "0           Bob Dylan           Like a Rolling Stone\n",
       "1  The Rolling Stones  (I Can't Get No) Satisfaction\n",
       "2      The Beach Boys                Good Vibrations\n",
       "3             Nirvana        Smells Like Teen Spirit\n",
       "4     Aretha Franklin                        Respect"
      ]
     },
     "execution_count": 8,
     "metadata": {},
     "output_type": "execute_result"
    }
   ],
   "source": [
    "not_hot.head()"
   ]
  },
  {
   "cell_type": "code",
   "execution_count": 9,
   "id": "afc8fd50",
   "metadata": {},
   "outputs": [
    {
     "name": "stdout",
     "output_type": "stream",
     "text": [
      "No matching rows found.\n"
     ]
    }
   ],
   "source": [
    "#droping the duplicates\n",
    "merged_df = pd.merge(hot_songs, not_hot, on = ['artist', 'title'], how = 'inner')\n",
    "\n",
    "if not merged_df.empty:\n",
    "    print(\"Matching rows found:\")\n",
    "    print(merged_df)\n",
    "else:\n",
    "    print(\"No matching rows found.\")"
   ]
  },
  {
   "cell_type": "code",
   "execution_count": 10,
   "id": "3068b554",
   "metadata": {},
   "outputs": [],
   "source": [
    "not_hot = not_hot[(not_hot['title'] != 'Christmas (Baby Please Come Home)') & (not_hot['artist'] != 'Darlene Love')]"
   ]
  },
  {
   "cell_type": "code",
   "execution_count": 11,
   "id": "60d49c70",
   "metadata": {},
   "outputs": [],
   "source": [
    "not_hot.to_csv(\"not_hot_drop.csv\")"
   ]
  },
  {
   "cell_type": "code",
   "execution_count": null,
   "id": "5f0e49d2",
   "metadata": {},
   "outputs": [],
   "source": []
  }
 ],
 "metadata": {
  "kernelspec": {
   "display_name": "Python 3 (ipykernel)",
   "language": "python",
   "name": "python3"
  },
  "language_info": {
   "codemirror_mode": {
    "name": "ipython",
    "version": 3
   },
   "file_extension": ".py",
   "mimetype": "text/x-python",
   "name": "python",
   "nbconvert_exporter": "python",
   "pygments_lexer": "ipython3",
   "version": "3.11.5"
  }
 },
 "nbformat": 4,
 "nbformat_minor": 5
}
